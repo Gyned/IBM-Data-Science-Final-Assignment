{
 "cells": [
  {
   "cell_type": "markdown",
   "metadata": {},
   "source": [
    "<center>\n",
    "    <img src=\"https://cf-courses-data.s3.us.cloud-object-storage.appdomain.cloud/IBMDeveloperSkillsNetwork-DS0105EN-SkillsNetwork/labs/Module2/images/SN_web_lightmode.png\" width=\"300\" alt=\"cognitiveclass.ai logo\">\n",
    "</center>\n"
   ]
  },
  {
   "cell_type": "markdown",
   "metadata": {
    "tags": []
   },
   "source": [
    "#### Add your code below following the instructions given in the course\n"
   ]
  },
  {
   "cell_type": "markdown",
   "metadata": {},
   "source": [
    "**Exercise 1: Create a Jupyter Notebook**\n",
    "\n",
    "<font color=grey>Create a new Jupyter notebook called **DataScienceEcosystem.ipynb**<font>"
   ]
  },
  {
   "cell_type": "markdown",
   "metadata": {},
   "source": [
    "**Exercise 2: Create markdown cell with title of the notebook**\n",
    "\n",
    "<font color=grey>Create a markdown cell with the title <font color=red>Data Science Tools and Ecosystem</font> using H1 style heading.<font>"
   ]
  },
  {
   "cell_type": "markdown",
   "metadata": {
    "tags": []
   },
   "source": [
    "# Data Science Tools and Ecosystem"
   ]
  },
  {
   "cell_type": "markdown",
   "metadata": {},
   "source": [
    "**Exercise 3 - Create a markdown cell for an introduction**\n",
    "\n",
    "<font color=gray>Write an introductory sentence about the notebook such as the follows:</font>\n",
    "<font color=red>In this notebook, Data Science Tools and Ecosystem are summarized.</font>\n",
    "\n",
    "**Exercise 10 - Insert a markdown cell to list Objectives**\n",
    "\n",
    "<font color=gray>Below the introduction cell created in Exercise 3, insert a new markdown cell to list the objectives that this notebook covered (i.e. some of the key takeaways from the course). In this new cell start with an introductory line titled: </font><font color=red>Objectives:</font><font color=gray> in bold font. Then using an </font><font color=red>unordered list <font color=gray>(bullets) indicate 3 to 5 items covered in this notebook, such as </font><font color=red>List popular languages for Data Science.</font>"
   ]
  },
  {
   "cell_type": "markdown",
   "metadata": {
    "tags": []
   },
   "source": [
    "In this notebook, Data Science Tools and Ecosystem are summarized.\n",
    "\n",
    "**Objectives:**\n",
    "* List popular languages for Data Science\n",
    "* List commonly used libraries by Data Scientists\n",
    "* List 3 open source tools for development environments used in data science\n",
    "* Sight examples of evaluating arithmetic expressions in Python"
   ]
  },
  {
   "cell_type": "markdown",
   "metadata": {},
   "source": [
    "**Exercise 4 - Create a markdown cell to list data science languages**\n",
    "\n",
    "<font color=grey>Start the cell with an overview line such as:</font>\n",
    "\n",
    "<font color=red>Some of the popular languages that Data Scientists use are:</font>\n",
    "\n",
    "<font color=grey>Then create an ordered list (i.e. numbered) listing 3 (or more) commonly used languages for data science.</font>"
   ]
  },
  {
   "cell_type": "markdown",
   "metadata": {},
   "source": [
    "Some of the popular languages that Data Scientists use are:\n",
    "1. Python\n",
    "2. R\n",
    "3. SQL\n",
    "4. Java\n",
    "5. Scala\n",
    "6. C++\n",
    "7. JavaScript\n",
    "8. Julia"
   ]
  },
  {
   "cell_type": "markdown",
   "metadata": {},
   "source": [
    "**Exercise 5 - Create a markdown cell to list data science libraries**\n",
    "\n",
    "<font color=grey>Add an overview line to the cell like:</font>\n",
    "\n",
    "<font color=red>Some of the commonly used libraries used by Data Scientists include:</font>\n",
    "\n",
    "<font color=grey>Below this line add an</font> <font color=red>ordered list</font><font color=grey> listing 3 (or more) commonly used libraries in data science.</font>"
   ]
  },
  {
   "cell_type": "markdown",
   "metadata": {
    "tags": []
   },
   "source": [
    "Some of the commonly used libraries used by Data Scientists include:\n",
    "1. TensorFlow\n",
    "2. SciPy\n",
    "3. Pandas\n",
    "4. NumPy\n",
    "5. Keras\n",
    "6. SciKit-Learn\n",
    "7. Matplotlib\n",
    "8. Pytorch\n",
    "9. Vegas\n",
    "10. ggplot2\n",
    "11. Seaborn\n",
    "12. Natural Language Toolkit (NLTK)"
   ]
  },
  {
   "cell_type": "markdown",
   "metadata": {},
   "source": [
    "**Exercise 6 - Create a markdown cell with a table of Data Science tools**\n",
    "\n",
    "<font color=grey>Create a single column table in this cell with the first row containing the header </font><font color=red>Data Science Tools.</font> <font color=grey>The subsequent three rows in the table should indicate three development environment open source tools used in data science.</font>"
   ]
  },
  {
   "cell_type": "markdown",
   "metadata": {},
   "source": [
    "| Data Science Tools |\n",
    "| ------ |\n",
    "| Jupyter Notebooks |\n",
    "| RStudio |\n",
    "| Spyder |"
   ]
  },
  {
   "cell_type": "markdown",
   "metadata": {},
   "source": [
    "**Exercise 7 - Create a markdown cell introducing arithmetic expression examples**\n",
    "\n",
    "<font color=gray>Add a line in this cell with H3 style heading with text like:</font>\n",
    "\n",
    "<font color=red>Below are a few examples of evaluating arithmetic expressions in Python.</font>"
   ]
  },
  {
   "cell_type": "markdown",
   "metadata": {
    "tags": []
   },
   "source": [
    "### Below are a few examples of evaluating arithmetic expressions in Python"
   ]
  },
  {
   "cell_type": "markdown",
   "metadata": {},
   "source": [
    "**Exercise 8 - Create a code cell to multiply and add numbers**\n",
    "\n",
    "<font color=gray>In this code cell evaluate the expression </font><font color=red>(3*4)+5</font>.\n",
    "<font color=gray>Insert a comment line before the expression to explain the operation e.g. </font></font><font color=red>This a simple arithmetic expression to mutiply then add integers.</font>\n",
    "<font color=gray>Then execute the cell to ensure the expression returns the expected output of </font><font color=red>17.</font>"
   ]
  },
  {
   "cell_type": "code",
   "execution_count": 4,
   "metadata": {
    "tags": []
   },
   "outputs": [
    {
     "data": {
      "text/plain": [
       "17"
      ]
     },
     "execution_count": 4,
     "metadata": {},
     "output_type": "execute_result"
    }
   ],
   "source": [
    "# This a simple arithmetic expression to mutiply then add integers\n",
    "(3*4)+5"
   ]
  },
  {
   "cell_type": "markdown",
   "metadata": {},
   "source": [
    "**Exercise 9 - Create a code cell to convert minutes to hours**\n",
    "\n",
    "<font color=gray>In this code cell write an expression that converts </font><font color=red>200</font><font color=gray> minutes into </font><font color=red>hours.</font>\n",
    "<font color=gray>Insert a comment line before the expression to explain the operation e.g. </font><font color=red>This will convert 200 minutes to hours by diving by 60.</font>\n",
    "<font color=gray>Run the cell to evaluate the expression.</font>"
   ]
  },
  {
   "cell_type": "code",
   "execution_count": 3,
   "metadata": {
    "tags": []
   },
   "outputs": [
    {
     "data": {
      "text/plain": [
       "3.3333333333333335"
      ]
     },
     "execution_count": 3,
     "metadata": {},
     "output_type": "execute_result"
    }
   ],
   "source": [
    "# This will convert 200 minutes to hours by diving by 60\n",
    "200/60"
   ]
  },
  {
   "cell_type": "markdown",
   "metadata": {},
   "source": [
    "**Exercise 11 - Create a markdown cell to indicate the Author's name**\n",
    "\n",
    "<font color=gray>In this markdown cell markdown cell include the following text </font><font color=red>Author</font><font color=gray> in </font><font color=red>H2 style heading</font><font color=gray>. Include your </font><font color=red>name</font><font color=gray> as regular text below the word </font><font color=red>Author</font>."
   ]
  },
  {
   "cell_type": "markdown",
   "metadata": {
    "tags": []
   },
   "source": [
    "## Author\n",
    "Mary Jane R. Edera"
   ]
  }
 ],
 "metadata": {
  "kernelspec": {
   "display_name": "Python 3 (ipykernel)",
   "language": "python",
   "name": "python3"
  },
  "language_info": {
   "codemirror_mode": {
    "name": "ipython",
    "version": 3
   },
   "file_extension": ".py",
   "mimetype": "text/x-python",
   "name": "python",
   "nbconvert_exporter": "python",
   "pygments_lexer": "ipython3",
   "version": "3.9.12"
  }
 },
 "nbformat": 4,
 "nbformat_minor": 4
}
